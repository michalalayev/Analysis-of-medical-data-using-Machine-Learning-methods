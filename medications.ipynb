{
 "cells": [
  {
   "cell_type": "code",
   "execution_count": 1,
   "metadata": {},
   "outputs": [],
   "source": [
    "import numpy as np\n",
    "import pandas as pd\n",
    "pd.options.mode.chained_assignment = None \n",
    "#pd.set_option('display.max_columns', None)\n",
    "#pd.set_option('display.max_rows', None)"
   ]
  },
  {
   "cell_type": "code",
   "execution_count": 2,
   "metadata": {},
   "outputs": [],
   "source": [
    "def create_meds_features(cohort, table, output_file_name, table_name, kind):  \n",
    "    print(\"started creating features from \",table_name)\n",
    "    table.rename(columns={'hours_from_starttime_to_targettime' : 'hours_from_charttime_to_targettime', \n",
    "                         'start_date' : 'charttime'}, inplace=True)\n",
    "    cohort = cohort.sort_values(by=['identifier'])\n",
    "    \n",
    "    # Create the empty dataframe with all the identifiers:\n",
    "    idents = cohort['identifier']\n",
    "    df = pd.DataFrame(idents, columns=['identifier'])\n",
    "    \n",
    "    #create the columns of features with 0 values:  \n",
    "    features = [\"Got any {} during hospital stay\".format(kind), #0\n",
    "                \"Number of different {} the patient got\".format(kind), #1\n",
    "                \"Doses of any {} the patient got\".format(kind), #2\n",
    "                \"Doses of any {} in the last day before target time\".format(kind), #3\n",
    "                \"Got any {} in the last day before target time\".format(kind), #4\n",
    "                \"Number of different {} in the last day before target time\".format(kind), #5\n",
    "                \"Hours from first {} dose to target time\".format(kind), #6\n",
    "                \"Hours from last {} dose to target time\".format(kind) #7\n",
    "               ]\n",
    "    for feat in features:\n",
    "        df[feat] = 0\n",
    "    \n",
    "    # create the final df with all the statistics for all identifiers:\n",
    "    df_final = pd.DataFrame()\n",
    "    table_idens = table.identifier.unique()\n",
    "    h_str = 'hours_from_charttime_to_targettime'\n",
    "    \n",
    "    for iden in df['identifier']:\n",
    "        df_relevant_row = df.loc[df['identifier'] == iden] # the row of the specific identifier in df\n",
    "        if iden in table_idens: #skip identifiers that's not in table\n",
    "            table_relevant_rows = table.loc[table['identifier'] == iden].reset_index() # the rows of the specific identifier in table\n",
    "            df_relevant_row[features[0]] = 1\n",
    "            df_relevant_row[features[1]] = len(table_relevant_rows.order_name.unique())\n",
    "            df_relevant_row[features[2]] = len(table_relevant_rows)\n",
    "            on_target_day_df = table_relevant_rows.loc[(table_relevant_rows[h_str] <= 24.0) & (table_relevant_rows[h_str] >= 0.0)] \n",
    "            on_target_day_len = len(on_target_day_df)\n",
    "            if on_target_day_len > 0: #there is at least one dose the patient got on the last day prior to target time\n",
    "                df_relevant_row[features[3]] = on_target_day_len\n",
    "                df_relevant_row[features[4]] = 1\n",
    "                df_relevant_row[features[5]] = len(on_target_day_df.order_name.unique())\n",
    "            df_relevant_row[features[6]] = table_relevant_rows.at[0, h_str]\n",
    "            df_relevant_row[features[7]] = table_relevant_rows.at[len(table_relevant_rows)-1, h_str]\n",
    "\n",
    "        #add the relevant row to final df:\n",
    "        df_final = pd.concat([df_final, df_relevant_row])\n",
    "    \n",
    "    print(\"done creating features from \",table_name) \n",
    "    print(\"shape: \",df_final.shape)\n",
    "\n",
    "    #display(df_final)\n",
    "    df_final.to_csv(output_file_name, encoding='utf-8', index=False)\n",
    "    \n",
    "    print(\"done creating {}_for_modeling.csv\\n\".format(table_name))\n",
    "    \n",
    "    \n",
    "    "
   ]
  },
  {
   "cell_type": "code",
   "execution_count": null,
   "metadata": {},
   "outputs": [],
   "source": []
  }
 ],
 "metadata": {
  "kernelspec": {
   "display_name": "Python 3",
   "language": "python",
   "name": "python3"
  },
  "language_info": {
   "codemirror_mode": {
    "name": "ipython",
    "version": 3
   },
   "file_extension": ".py",
   "mimetype": "text/x-python",
   "name": "python",
   "nbconvert_exporter": "python",
   "pygments_lexer": "ipython3",
   "version": "3.8.5"
  }
 },
 "nbformat": 4,
 "nbformat_minor": 4
}
