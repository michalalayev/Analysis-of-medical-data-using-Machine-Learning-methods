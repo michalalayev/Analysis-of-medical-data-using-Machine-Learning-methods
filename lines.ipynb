{
 "cells": [
  {
   "cell_type": "code",
   "execution_count": 54,
   "metadata": {},
   "outputs": [],
   "source": [
    "import numpy as np\n",
    "import pandas as pd\n",
    "pd.options.mode.chained_assignment = None \n",
    "#pd.set_option('display.max_rows', None)"
   ]
  },
  {
   "cell_type": "code",
   "execution_count": 55,
   "metadata": {},
   "outputs": [],
   "source": [
    "def create_line_features(cohort, table, output_file_name, table_name): \n",
    "    print(\"started creating features from \",table_name)\n",
    "    cohort = cohort.sort_values(by=['identifier'])\n",
    "    \n",
    "    # Create the empty dataframe with all the identifiers:\n",
    "    idents = cohort['identifier']\n",
    "    df = pd.DataFrame(idents, columns=['identifier'])\n",
    "    \n",
    "    #create the columns of features with 0 values:  \n",
    "    labels = table.label.unique()\n",
    "    for label in labels:\n",
    "        df[\"{}, amount during hospital stay\".format(label)] = 0\n",
    "        df[\"{}, hours from first insertion to target\".format(label)] = 0\n",
    "        df[\"{} was inserted in the last day before target time\".format(label)] = 0\n",
    "        df[\"patient had {} during hospital stay\".format(label)] = 0\n",
    "    df[\"number of invasive lines inserted during hospital stay\"] = 0\n",
    "    \n",
    "    # create the final df with all the statistics for all identifiers:\n",
    "    df_final = pd.DataFrame()\n",
    "    table_idens = table.identifier.unique()\n",
    "    for iden in df['identifier']:\n",
    "        df_relevant_row = df.loc[df['identifier'] == iden] # the row of the specific identifier in df\n",
    "        if iden in table_idens: #skip identifiers that's not in table\n",
    "            table_relevant_rows = table.loc[table['identifier'] == iden] # the rows of the specific identifier in table\n",
    "            sum = 0\n",
    "            for label in labels:\n",
    "                label_rows = table_relevant_rows.loc[table_relevant_rows['label'] == label].reset_index()\n",
    "                count = len(label_rows)\n",
    "                if count > 0:\n",
    "                    sum += count\n",
    "                    df_relevant_row[\"{}, amount during hospital stay\".format(label)] = count\n",
    "                    df_relevant_row[\"{}, hours from first insertion to target\".format(label)] = label_rows.at[0,'hours_from_starttime_to_targettime']\n",
    "                    df_relevant_row[\"patient had {} during hospital stay\".format(label)] = 1\n",
    "                    time = label_rows['hours_from_starttime_to_targettime'].iloc[-1]\n",
    "                    if (time <= 24.0 and time >= 0):\n",
    "                        df_relevant_row[\"{} was inserted in the last day before target time\".format(label)] = 1\n",
    "                        #else is 0\n",
    "                #if count == 0 all columns are 0.\n",
    "            df_relevant_row[\"number of invasive lines inserted during hospital stay\"] = sum\n",
    "    \n",
    "        #add the relevant row to final df:\n",
    "        df_final = pd.concat([df_final, df_relevant_row])\n",
    "    \n",
    "    print(\"done creating features from \",table_name) \n",
    "    print(\"shape: \",df_final.shape)\n",
    "    df_final.to_csv(output_file_name, encoding='utf-8', index=False)\n",
    "    print(\"done creating {}_for_modeling.csv\\n\".format(table_name))\n",
    "    "
   ]
  },
  {
   "cell_type": "code",
   "execution_count": null,
   "metadata": {},
   "outputs": [],
   "source": []
  }
 ],
 "metadata": {
  "kernelspec": {
   "display_name": "Python 3",
   "language": "python",
   "name": "python3"
  },
  "language_info": {
   "codemirror_mode": {
    "name": "ipython",
    "version": 3
   },
   "file_extension": ".py",
   "mimetype": "text/x-python",
   "name": "python",
   "nbconvert_exporter": "python",
   "pygments_lexer": "ipython3",
   "version": "3.8.5"
  }
 },
 "nbformat": 4,
 "nbformat_minor": 4
}
