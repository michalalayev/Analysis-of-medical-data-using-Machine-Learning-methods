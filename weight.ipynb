{
 "cells": [
  {
   "cell_type": "code",
   "execution_count": 1,
   "metadata": {},
   "outputs": [],
   "source": [
    "import numpy as np\n",
    "import pandas as pd\n",
    "pd.options.mode.chained_assignment = None"
   ]
  },
  {
   "cell_type": "code",
   "execution_count": null,
   "metadata": {},
   "outputs": [],
   "source": [
    "def calculate_bmi(cohort, table, output_file_name, table_name):\n",
    "    print(\"started creating features from \",table_name)\n",
    "    table['admissionheight'].fillna((table['admissionheight'].mean()), inplace=True)\n",
    "    table['admissionweight'].fillna((table['admissionweight'].mean()), inplace=True)\n",
    "    table['BMI on admission'] = table['admissionweight']/((table['admissionheight']/100.0)*(table['admissionheight']/100.0))\n",
    "    \n",
    "    print(\"done creating features from \",table_name) \n",
    "    print(\"shape: \",table.shape)\n",
    "    table.to_csv(output_file_name, encoding='utf-8', index=False)\n",
    "    print(\"done creating {}_for_modeling.csv\".format(table_name))"
   ]
  },
  {
   "cell_type": "code",
   "execution_count": 2,
   "metadata": {},
   "outputs": [],
   "source": [
    "def create_daily_weight(cohort, table, output_file_name, table_name):\n",
    "    print(\"started creating features from \",table_name)\n",
    "    cohort = cohort.sort_values(by=['identifier'])\n",
    "    table.dropna(subset=['kg'], inplace=True) # remove null values\n",
    "\n",
    "    # Create the empty dataframe with all the identifiers:\n",
    "    idents = cohort['identifier']\n",
    "    df = pd.DataFrame(idents, columns=['identifier'])\n",
    "    features = [' max', ' min', ' num of measurements']\n",
    "    label = 'daily weight'\n",
    "    \n",
    "    #create the columns with nan values:    \n",
    "    for feat in features:\n",
    "        df[label + feat] = np.nan\n",
    "\n",
    "    # create the final df with all the statistics for all identifiers:\n",
    "    df_final = pd.DataFrame()\n",
    "    table_idens = table.identifier.unique()\n",
    "    for iden in df['identifier']:\n",
    "        df_relevant_row = df.loc[df['identifier'] == iden] # the row of the specific identifier in df\n",
    "        if iden in table_idens: #skip identifiers that's not in table\n",
    "            relevant_rows = table.loc[table['identifier'] == iden]\n",
    "            values = [relevant_rows['kg'].max(), relevant_rows['kg'].min(), len(relevant_rows)] # max, min, num of measurements\n",
    "            i = 0\n",
    "            for feat in features:\n",
    "                df_relevant_row.loc[:, label + feat] = values[i]\n",
    "                i+=1\n",
    "            \n",
    "        df_final = pd.concat([df_final, df_relevant_row])\n",
    "    \n",
    "    #display(df_final)\n",
    "    df_final['daily weight num of measurements'].fillna(0, inplace=True)\n",
    "    df_final['daily weight delta bw max and min'] = df_final['daily weight max'] - df_final['daily weight min']\n",
    "    \n",
    "    print(\"done creating features from \",table_name) \n",
    "    print(\"shape: \",df_final.shape)\n",
    "    df_final.to_csv(output_file_name, encoding='utf-8', index=False)\n",
    "    print(\"done creating {}_for_modeling.csv\\n\".format(table_name))\n",
    "\n",
    "    "
   ]
  },
  {
   "cell_type": "code",
   "execution_count": null,
   "metadata": {},
   "outputs": [],
   "source": []
  }
 ],
 "metadata": {
  "kernelspec": {
   "display_name": "Python 3",
   "language": "python",
   "name": "python3"
  },
  "language_info": {
   "codemirror_mode": {
    "name": "ipython",
    "version": 3
   },
   "file_extension": ".py",
   "mimetype": "text/x-python",
   "name": "python",
   "nbconvert_exporter": "python",
   "pygments_lexer": "ipython3",
   "version": "3.8.5"
  }
 },
 "nbformat": 4,
 "nbformat_minor": 4
}
