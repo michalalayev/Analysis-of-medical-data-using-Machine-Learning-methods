{
 "cells": [
  {
   "cell_type": "code",
   "execution_count": 13,
   "metadata": {},
   "outputs": [],
   "source": [
    "%run modules.ipynb import *"
   ]
  },
  {
   "cell_type": "code",
   "execution_count": 11,
   "metadata": {},
   "outputs": [],
   "source": [
    "# Model A creation\n",
    "\n",
    "# csv file with an identinval format to model_a_mimic_cohort_v2\n",
    "file_path = \"C:/Temp/model_a_mimic_cohort_v2_notarget.csv\" #\"XXXX\"\n",
    "\n",
    "# the model that you evaluated.\n",
    "model_type = 'a'\n",
    "\n",
    "# db connection\n",
    "db_conn = psycopg2.connect(\n",
    "    host=\"localhost\",\n",
    "    database=\"mimic\",\n",
    "    user=\"postgres\",\n",
    "    password=\"postgres\")\n",
    "\n",
    "print('Connected to the database.')\n",
    "    \n",
    "external_validation_set = \"C:/Temp/submission_tables/model_a/external_validation_set.csv\"\n",
    "processed_external_validation_set = \"C:/Temp/submission_tables/model_a/processed_external_validation_set.csv\"\n"
   ]
  },
  {
   "cell_type": "code",
   "execution_count": null,
   "metadata": {},
   "outputs": [],
   "source": [
    "# Module 1\n",
    "module_1_cohort_creation(file_path, db_conn, model_type)\n",
    "\n",
    "# Module 2\n",
    "module_2_preprocessing(external_validation_set, model_type)\n",
    "\n",
    "# Module 3\n",
    "module_3_model(processed_external_validation_set, model_type)"
   ]
  },
  {
   "cell_type": "code",
   "execution_count": 16,
   "metadata": {},
   "outputs": [],
   "source": [
    "# Model B creation\n",
    "\n",
    "# csv file with an identinval format to model_b_mimic_cohort_v2\n",
    "file_path = \"C:/Temp/model_b_mimic_cohort_v2_notarget.csv\" #\"XXXX\"\n",
    "\n",
    "# the model that you evaluated.\n",
    "model_type = 'b'\n",
    "\n",
    "# db connection\n",
    "db_conn = psycopg2.connect(\n",
    "    host=\"localhost\",\n",
    "    database=\"mimic\",\n",
    "    user=\"postgres\",\n",
    "    password=\"postgres\")\n",
    "\n",
    "print('Connected to the database.')\n",
    "    \n",
    "external_validation_set = \"C:/Temp/submission_tables/model_b/external_validation_set.csv\"\n",
    "processed_external_validation_set = \"C:/Temp/submission_tables/model_b/processed_external_validation_set.csv\"\n"
   ]
  },
  {
   "cell_type": "code",
   "execution_count": null,
   "metadata": {},
   "outputs": [],
   "source": [
    "# Module 1\n",
    "module_1_cohort_creation(file_path, db_conn, model_type)\n",
    "\n",
    "# Module 2\n",
    "module_2_preprocessing(external_validation_set, model_type)\n",
    "\n",
    "# Module 3\n",
    "module_3_model(processed_external_validation_set, model_type)"
   ]
  },
  {
   "cell_type": "code",
   "execution_count": null,
   "metadata": {},
   "outputs": [],
   "source": []
  }
 ],
 "metadata": {
  "kernelspec": {
   "display_name": "Python 3",
   "language": "python",
   "name": "python3"
  },
  "language_info": {
   "codemirror_mode": {
    "name": "ipython",
    "version": 3
   },
   "file_extension": ".py",
   "mimetype": "text/x-python",
   "name": "python",
   "nbconvert_exporter": "python",
   "pygments_lexer": "ipython3",
   "version": "3.8.5"
  }
 },
 "nbformat": 4,
 "nbformat_minor": 2
}
